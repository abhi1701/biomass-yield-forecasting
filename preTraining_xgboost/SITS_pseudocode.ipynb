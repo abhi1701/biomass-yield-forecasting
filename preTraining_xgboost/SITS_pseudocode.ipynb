{
 "cells": [
  {
   "cell_type": "code",
   "execution_count": null,
   "id": "95b5c02c",
   "metadata": {},
   "outputs": [],
   "source": [
    "# d -> input dataset to be synthesized\n",
    "# int n -> number of records in output data\n",
    "# float s -> max stds +/- the mean between which \n",
    "# synthesized randomly generated value will be\n",
    "\n",
    "func SITS(d, n, s):\n",
    "    output = null\n",
    "    \n",
    "    for each class in d:\n",
    "        potcii = d.percentageOfThisClassInInput()\n",
    "        amt_to_synth = potcii * d.size()\n",
    "        \n",
    "        for amt_to_synth:\n",
    "            new_record = null\n",
    "            for each feature f:\n",
    "                mean = f.mean()\n",
    "                std = f.std()\n",
    "                new_f_val = random(min: mean - std * s, \n",
    "                                   max: mean + std * s)\n",
    "                new_record.add(new_f_val)\n",
    "                \n",
    "            output.add(new_record)\n",
    "            \n",
    "    return output\n",
    "\n"
   ]
  }
 ],
 "metadata": {
  "kernelspec": {
   "display_name": "Python 3 (ipykernel)",
   "language": "python",
   "name": "python3"
  },
  "language_info": {
   "codemirror_mode": {
    "name": "ipython",
    "version": 3
   },
   "file_extension": ".py",
   "mimetype": "text/x-python",
   "name": "python",
   "nbconvert_exporter": "python",
   "pygments_lexer": "ipython3",
   "version": "3.9.13"
  }
 },
 "nbformat": 4,
 "nbformat_minor": 5
}
